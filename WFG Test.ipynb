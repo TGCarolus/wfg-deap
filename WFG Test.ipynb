{
 "cells": [
  {
   "cell_type": "markdown",
   "metadata": {},
   "source": [
    "![PUC-Rio header](http://www.puc-rio.br/sobrepuc/admin/vrd/brasao/download/ass_horizpb_com4.jpg)"
   ]
  },
  {
   "cell_type": "markdown",
   "metadata": {},
   "source": [
    "# Programming the WFG multi-objective problem toolkit in Python\n",
    "\n",
    "## [César Revelo](https://github.com/CesarRevelo) and [Luis Martí](http://lmarti.com)\n",
    "### Laboratory of Applied Intelligence and Robotics\n",
    "### [Department of Electrical Engineering](http://www.ele.puc-rio.br)\n",
    "### [Pontifícia Universidade Católica do Rio de Janeiro](http://www.puc-rio.br)"
   ]
  },
  {
   "cell_type": "markdown",
   "metadata": {},
   "source": [
    "This notebook is meant to test and illustrate our implementation of the WFG problems.\n",
    "\n",
    "Papers:\n",
    "\n",
    "* Lucas Bradstreet, Luigi Barone, Lyndon While, Simon Huband, and Phil Hingston. Use of the WFG Toolkit and PISA for Comparison of Multi-objective Evolutionary Algorithms. 2007 IEEE Symposium on Computational Intelligence in Multi-criteria Decision-making. IEEE MCDM 2007, pages 382-389. IEEE, April 2007. [download](http://www.wfg.csse.uwa.edu.au/publications/WFG2007b.pdf)\n",
    "\n",
    "* Simon Huband, Phil Hingston, Luigi Barone, and Lyndon While. A Review of Multi-objective Test Problems and a Scalable Test Problem Toolkit. IEEE Transactions on Evolutionary Computation, volume 10, no 5, pages 477-506. IEEE, October 2006. [download](http://www.wfg.csse.uwa.edu.au/publications/WFG2006c.pdf)\n",
    "\n",
    "* Simon Huband, Luigi Barone, Lyndon While, and Phil Hingston. A Scalable Multi-objective Test Problem Toolkit. 3rd International Conference on Evolutionary Multi-Criterion Optimization. EMO 2005, volume 3410 of Lecture Notes in Computer Science, pages 280-294. Springer-Verlag, March 2005.\n",
    "\n",
    "Existing implementations:\n",
    "\n",
    "* Walking Fish Group WFG toolkit project: http://www.wfg.csse.uwa.edu.au/toolkit/\n",
    "* jMetal: http://jmetal.sourceforge.net/problems.html\n",
    "\n",
    "<br/>\n",
    "<div class=\"alert alert-info\">\n",
    "    <p>\n",
    "    <span class=\"label label-primary\">To be merged inside DEAP!</span>\n",
    "    After we test that the problem are correctly implemented we plan to submit the code to the [DEAP](http://github.com/deap/DEAP) guys.\n",
    "    </p>\n",
    " </div>"
   ]
  },
  {
   "cell_type": "code",
   "execution_count": 1,
   "metadata": {
    "collapsed": true
   },
   "outputs": [],
   "source": [
    "from deap import algorithms, base, benchmarks, tools, creator, cma"
   ]
  },
  {
   "cell_type": "code",
   "execution_count": 2,
   "metadata": {
    "collapsed": true
   },
   "outputs": [],
   "source": [
    "import numpy as np\n",
    "import pandas as pd\n",
    "import array, random, os, matplotlib"
   ]
  },
  {
   "cell_type": "code",
   "execution_count": 3,
   "metadata": {
    "collapsed": false
   },
   "outputs": [],
   "source": [
    "import wfg"
   ]
  },
  {
   "cell_type": "code",
   "execution_count": 4,
   "metadata": {
    "collapsed": true
   },
   "outputs": [],
   "source": [
    "from mpl_toolkits.mplot3d import Axes3D\n",
    "import matplotlib.pyplot as plt\n",
    "%matplotlib inline"
   ]
  },
  {
   "cell_type": "code",
   "execution_count": 5,
   "metadata": {
    "collapsed": true
   },
   "outputs": [],
   "source": [
    "# making our plots look good in a retina display\n",
    "%config InlineBackend.figure_format = 'retina'"
   ]
  },
  {
   "cell_type": "code",
   "execution_count": 6,
   "metadata": {
    "collapsed": false
   },
   "outputs": [],
   "source": [
    "problem_creators = {'wfg1': wfg.create_instance_wfg1, \n",
    "                    'wfg2': wfg.create_instance_wfg2, \n",
    "                    'wfg3': wfg.create_instance_wfg3, \n",
    "                    'wfg4': wfg.create_instance_wfg4, \n",
    "                    'wfg5': wfg.create_instance_wfg5, \n",
    "                    'wfg6': wfg.create_instance_wfg6, \n",
    "                    'wfg7': wfg.create_instance_wfg7, \n",
    "                    'wfg8': wfg.create_instance_wfg8, \n",
    "                    'wfg9': wfg.create_instance_wfg9}"
   ]
  },
  {
   "cell_type": "code",
   "execution_count": 7,
   "metadata": {
    "collapsed": true
   },
   "outputs": [],
   "source": [
    "distance = 20                   # number of distance-related parameters(l) l==> {2, 4, 6,...} for WFG2 and WFG3\n",
    "position = 4                    # number of position-related parameters(k) k==> {2(M-1), 3(M-1),...}\n",
    "num_vars = distance + position  # number of problem variables"
   ]
  },
  {
   "cell_type": "markdown",
   "metadata": {},
   "source": [
    "<a id='LOL'></a>"
   ]
  },
  {
   "cell_type": "markdown",
   "metadata": {},
   "source": [
    "# Two-objective problems"
   ]
  },
  {
   "cell_type": "code",
   "execution_count": 8,
   "metadata": {
    "collapsed": true
   },
   "outputs": [],
   "source": [
    "num_objs = 2                  # number of objectives(M) k+l >= M"
   ]
  },
  {
   "cell_type": "markdown",
   "metadata": {},
   "source": [
    "A function for creating a random point between a list of lower and upper bounds."
   ]
  },
  {
   "cell_type": "code",
   "execution_count": 9,
   "metadata": {
    "collapsed": true
   },
   "outputs": [],
   "source": [
    "def uniform(low_list, up_list):\n",
    "    return [random.uniform(l, h) for l, h in zip(low_list, up_list)]"
   ]
  },
  {
   "cell_type": "markdown",
   "metadata": {},
   "source": [
    "## Test 1. Check that problem instances work"
   ]
  },
  {
   "cell_type": "code",
   "execution_count": 10,
   "metadata": {
    "collapsed": false,
    "scrolled": true
   },
   "outputs": [
    {
     "name": "stdout",
     "output_type": "stream",
     "text": [
      "wfg1 [2.9603953744567879, 0.98083641393498167]\n",
      "wfg2 [1.1651874034842966, 4.5445163284313388]\n",
      "wfg3 [1.6039235393945743, 2.7673295951110166]\n",
      "wfg4 [1.8881967708085261, 3.2086028496306631]\n",
      "wfg5 [2.2737884833858151, 2.6780362135409956]\n",
      "wfg6 [2.5253845166246851, 1.9644648160725389]\n",
      "wfg7 [1.5494284354586743, 3.8846156030346299]\n",
      "wfg8 [2.0196481399353434, 3.4825341662031111]\n",
      "wfg9 [1.9784546909666814, 3.5896065304801286]\n"
     ]
    }
   ],
   "source": [
    "for problem_name in sorted(problem_creators):\n",
    "    f, bounds = problem_creators[problem_name](distance, position, num_objs)\n",
    "    ind = uniform(*bounds)\n",
    "    print(problem_name, f(ind))"
   ]
  },
  {
   "cell_type": "markdown",
   "metadata": {},
   "source": [
    "## Test 2. Run NSGA-II and MO-CMA-ES and check the results agains a known front "
   ]
  },
  {
   "cell_type": "markdown",
   "metadata": {},
   "source": [
    "Let's compare the non-dominated solutions produced by NSGA-II and MO-CMA-ES with the two-objective Pareto fronts downloadable from http://jmetal.sourceforge.net/problems.html."
   ]
  },
  {
   "cell_type": "code",
   "execution_count": 11,
   "metadata": {
    "collapsed": false
   },
   "outputs": [],
   "source": [
    "creator.create(\"FitnessMin2D\", base.Fitness, weights=(-1.,-1.))\n",
    "creator.create(\"Individual2D\", array.array, typecode='d',fitness=creator.FitnessMin2D)"
   ]
  },
  {
   "cell_type": "markdown",
   "metadata": {},
   "source": [
    "### NSGA-II\n",
    "\n",
    "We program the setup NSGA-II."
   ]
  },
  {
   "cell_type": "code",
   "execution_count": 12,
   "metadata": {
    "collapsed": false
   },
   "outputs": [],
   "source": [
    "def nsga_ii(toolbox, indivual_class):\n",
    "    toolbox.register(\"attr_float\", uniform, \n",
    "                     toolbox.bounds_low, toolbox.bounds_high)\n",
    "    toolbox.register(\"individual\", tools.initIterate, indivual_class, toolbox.attr_float)\n",
    "    toolbox.register(\"population\", tools.initRepeat, list, toolbox.individual)\n",
    "    toolbox.register(\"mate\", tools.cxSimulatedBinaryBounded, \n",
    "                     low=toolbox.bounds_low, up=toolbox.bounds_high, eta=20.0)\n",
    "    toolbox.register(\"mutate\", tools.mutPolynomialBounded, \n",
    "                     low=toolbox.bounds_low, up=toolbox.bounds_high, eta=20.0, indpb=1.0/num_vars)\n",
    "    toolbox.register(\"select\", tools.selNSGA2)\n",
    "    \n",
    "    toolbox.pop_size = 100\n",
    "    toolbox.max_gen = 1000\n",
    "    toolbox.mut_prob = 0.1\n",
    "    \n",
    "    pop = toolbox.population(n=toolbox.pop_size)\n",
    "    pop = toolbox.select(pop, len(pop))\n",
    "    \n",
    "    return algorithms.eaMuPlusLambda(pop, toolbox, mu=toolbox.pop_size, \n",
    "                                     lambda_=toolbox.pop_size, \n",
    "                                     cxpb=1-toolbox.mut_prob,\n",
    "                                     mutpb=toolbox.mut_prob, stats=None,\n",
    "                                     ngen=toolbox.max_gen,verbose=False)"
   ]
  },
  {
   "cell_type": "code",
   "execution_count": 13,
   "metadata": {
    "collapsed": false,
    "scrolled": false
   },
   "outputs": [],
   "source": [
    "def run_nsga_ii(problem_name, indivual_class):\n",
    "    f, (bounds_low, bounds_high) = problem_creators[problem_name](distance, position, num_objs)\n",
    "    toolbox = base.Toolbox()\n",
    "    toolbox.register('evaluate', f)\n",
    "    toolbox.bounds_low = bounds_low\n",
    "    toolbox.bounds_high = bounds_high\n",
    "    res,_ = nsga_ii(toolbox, indivual_class)\n",
    "    \n",
    "    return res, problem_name"
   ]
  },
  {
   "cell_type": "markdown",
   "metadata": {},
   "source": [
    "Run NSGA-II for every problem. We are going to use the `multiprocessing` module to use all the available CPU cores and save some time."
   ]
  },
  {
   "cell_type": "code",
   "execution_count": 14,
   "metadata": {
    "collapsed": true
   },
   "outputs": [],
   "source": [
    "def run_nsga_ii_on_2d_problem(problem_name):\n",
    "    return run_nsga_ii(problem_name, creator.Individual2D)"
   ]
  },
  {
   "cell_type": "code",
   "execution_count": 15,
   "metadata": {
    "collapsed": false,
    "scrolled": true
   },
   "outputs": [
    {
     "name": "stdout",
     "output_type": "stream",
     "text": [
      "CPU times: user 244 ms, sys: 77.9 ms, total: 322 ms\n",
      "Wall time: 7min\n"
     ]
    }
   ],
   "source": [
    "%%time\n",
    "from multiprocessing import Pool\n",
    "nsga_ii_result_pairs = Pool().map(run_nsga_ii_on_2d_problem, problem_creators)"
   ]
  },
  {
   "cell_type": "code",
   "execution_count": 16,
   "metadata": {
    "collapsed": false
   },
   "outputs": [],
   "source": [
    "nsga_ii_results = {name: data for data, name in nsga_ii_result_pairs}"
   ]
  },
  {
   "cell_type": "markdown",
   "metadata": {},
   "source": [
    "### Multi-objective CMA-ES\n",
    "\n",
    "We are our code is a modification [DEAP MO-CMA-ES example](https://github.com/DEAP/deap/blob/master/examples/es/cma_mo.py)."
   ]
  },
  {
   "cell_type": "code",
   "execution_count": 17,
   "metadata": {
    "collapsed": false
   },
   "outputs": [],
   "source": [
    "def euc_distance(feasible_ind, original_ind):\n",
    "    \"\"\"A distance function to the feasability region.\"\"\"\n",
    "    return sum((f - o)**2 for f, o in zip(feasible_ind, original_ind))\n",
    "\n",
    "def closest_feasible(individual, lower_bound, upper_bound):\n",
    "    \"\"\"A function returning a valid individual from an invalid one.\"\"\"\n",
    "    feasible_ind = np.maximum(lower_bound, individual)\n",
    "    feasible_ind = np.minimum(upper_bound, feasible_ind)\n",
    "    return feasible_ind\n",
    "\n",
    "def valid(individual, lower_bound, upper_bound):\n",
    "    \"\"\"Determines if the individual is valid or not.\"\"\"\n",
    "    if np.any(np.greater(lower_bound, individual)) or np.any(np.greater(individual, upper_bound)):\n",
    "        return False\n",
    "    return True"
   ]
  },
  {
   "cell_type": "code",
   "execution_count": 18,
   "metadata": {
    "collapsed": true
   },
   "outputs": [],
   "source": [
    "def mocmaes(toolbox, indivual_class):\n",
    "    mu, lambda_ = 100, 100\n",
    "    max_gen = 1000\n",
    "\n",
    "    # The MO-CMA-ES algorithm takes a full population as argument\n",
    "    population = [indivual_class(uniform(toolbox.bounds_low, toolbox.bounds_high)) \n",
    "                  for _ in range(mu)]\n",
    "\n",
    "    for ind in population:\n",
    "        ind.fitness.values = toolbox.evaluate(ind)\n",
    "\n",
    "    strategy = cma.StrategyMultiObjective(population, sigma=1.0, mu=mu, lambda_=lambda_)\n",
    "    \n",
    "    toolbox.register(\"generate\", strategy.generate, indivual_class)\n",
    "    toolbox.register(\"update\", strategy.update)\n",
    "    \n",
    "    for _ in range(max_gen):\n",
    "        # Generate a new population\n",
    "        population = toolbox.generate()\n",
    "\n",
    "        # Evaluate the individuals\n",
    "        fitnesses = toolbox.map(toolbox.evaluate, population)\n",
    "        for ind, fit in zip(population, fitnesses):\n",
    "            ind.fitness.values = fit\n",
    "        \n",
    "        # Update the strategy with the evaluated individuals\n",
    "        toolbox.update(population)\n",
    "    \n",
    "    return strategy.parents"
   ]
  },
  {
   "cell_type": "code",
   "execution_count": 19,
   "metadata": {
    "collapsed": true
   },
   "outputs": [],
   "source": [
    "def run_mocmaes(problem_name, individual_class):\n",
    "    f, (bounds_low, bounds_high) = problem_creators[problem_name](distance, position, num_objs)\n",
    "    toolbox = base.Toolbox()\n",
    "    \n",
    "    toolbox.register('evaluate', f)\n",
    "    toolbox.decorate(\"evaluate\", tools.ClosestValidPenality(\n",
    "            lambda ind: valid(ind, bounds_low, bounds_high), \n",
    "            lambda ind: closest_feasible(ind, bounds_low, bounds_high), 1.0e-6, euc_distance))\n",
    "    \n",
    "    toolbox.bounds_low = bounds_low\n",
    "    toolbox.bounds_high = bounds_high\n",
    "    res = mocmaes(toolbox, individual_class)\n",
    "    \n",
    "    return res, problem_name"
   ]
  },
  {
   "cell_type": "code",
   "execution_count": 20,
   "metadata": {
    "collapsed": true
   },
   "outputs": [],
   "source": [
    "def run_mocmaes_on_2d_problem(problem_name):\n",
    "    return run_mocmaes(problem_name, creator.Individual2D)"
   ]
  },
  {
   "cell_type": "code",
   "execution_count": null,
   "metadata": {
    "collapsed": false
   },
   "outputs": [],
   "source": [
    "%%time\n",
    "mocmaes_result_pairs = Pool().map(run_mocmaes_on_2d_problem, problem_creators)"
   ]
  },
  {
   "cell_type": "code",
   "execution_count": null,
   "metadata": {
    "collapsed": true
   },
   "outputs": [],
   "source": [
    "mocmaes_results = {name: data for data, name in mocmaes_result_pairs}"
   ]
  },
  {
   "cell_type": "code",
   "execution_count": null,
   "metadata": {
    "collapsed": true
   },
   "outputs": [],
   "source": [
    "non_dom = tools.sortLogNondominated(nsga_ii_results[problem_name],\n",
    "                                        len(nsga_ii_results[problem_name]), \n",
    "                                        first_front_only=True)"
   ]
  },
  {
   "cell_type": "markdown",
   "metadata": {},
   "source": [
    "### Loading jMetal pre-computed 2D Pareto fronts"
   ]
  },
  {
   "cell_type": "code",
   "execution_count": null,
   "metadata": {
    "collapsed": true
   },
   "outputs": [],
   "source": [
    "jmetal_2d_pfs = {}\n",
    "for i, problem_name in enumerate(sorted(problem_creators)):\n",
    "    jmetal_2d_pfs[problem_name] = pd.read_table('WFG.2D' + os.sep + 'WFG' + str(i+1) + '.2D.pf',\n",
    "                                                sep=' ', header=None).dropna(axis=1)"
   ]
  },
  {
   "cell_type": "markdown",
   "metadata": {},
   "source": [
    "### Plotting the results"
   ]
  },
  {
   "cell_type": "code",
   "execution_count": null,
   "metadata": {
    "collapsed": false
   },
   "outputs": [],
   "source": [
    "plt.figure(figsize=(4*(len(problem_creators)//3),4*3))\n",
    "for i, problem_name in enumerate(sorted(problem_creators)):\n",
    "    ax = plt.subplot(len(problem_creators)//3, 3, i+1)\n",
    "    \n",
    "    # NSGA-II\n",
    "    non_dom = tools.sortLogNondominated(nsga_ii_results[problem_name],\n",
    "                                        len(nsga_ii_results[problem_name]), \n",
    "                                        first_front_only=True)\n",
    "    df = pd.DataFrame([ind.fitness.values for ind in non_dom])\n",
    "    ax.scatter(df[df.columns[0]].values, df[df.columns[1]].values, label='NSGA-II', \n",
    "               marker='+', color='g', alpha=0.5)\n",
    "    \n",
    "    # MO-CMA-ES\n",
    "    non_dom = tools.sortLogNondominated(mocmaes_results[problem_name],\n",
    "                                        len(mocmaes_results[problem_name]),\n",
    "                                        first_front_only=True)\n",
    "    df = pd.DataFrame([ind.fitness.values for ind in non_dom])\n",
    "    ax.scatter(df[df.columns[0]].values, df[df.columns[1]].values, label='MO-CMA-ES', \n",
    "               marker='x', color='r', alpha=0.5)\n",
    "    \n",
    "    # PF from jMetal guys\n",
    "    jm = jmetal_2d_pfs[problem_name]\n",
    "    ax.scatter(jm[jm.columns[0]].values, jm[jm.columns[1]].values, \n",
    "               marker='.', color='b', alpha=0.5, label='jMetal')\n",
    "    \n",
    "    plt.legend()\n",
    "    plt.xlabel('$f_1(\\mathbf{x})$');plt.ylabel('$f_2(\\mathbf{x})$')\n",
    "    plt.title(problem_name)\n",
    "    \n",
    "plt.tight_layout()"
   ]
  },
  {
   "cell_type": "markdown",
   "metadata": {},
   "source": [
    "### Hypervolumes"
   ]
  },
  {
   "cell_type": "code",
   "execution_count": null,
   "metadata": {
    "collapsed": false
   },
   "outputs": [],
   "source": [
    "def ref_point(problem_name):\n",
    "    non_dom = tools.sortLogNondominated(nsga_ii_results[problem_name],\n",
    "                                        len(nsga_ii_results[problem_name]), \n",
    "                                        first_front_only=True)\n",
    "    ref = list(pd.DataFrame([ind.fitness.values for ind in non_dom]).max())\n",
    "\n",
    "    non_dom = tools.sortLogNondominated(mocmaes_results[problem_name],\n",
    "                                        len(mocmaes_results[problem_name]), \n",
    "                                        first_front_only=True)\n",
    "    ref = np.maximum(ref, pd.DataFrame([ind.fitness.values for ind in non_dom]).max())\n",
    "\n",
    "    jm = jmetal_2d_pfs[problem_name]\n",
    "\n",
    "    ref = np.maximum(ref, list(jm.max()))\n",
    "    return ref + 0.01"
   ]
  },
  {
   "cell_type": "code",
   "execution_count": null,
   "metadata": {
    "collapsed": true
   },
   "outputs": [],
   "source": [
    "refs = [ref_point(problem_name) for problem_name in problem_creators]"
   ]
  },
  {
   "cell_type": "code",
   "execution_count": null,
   "metadata": {
    "collapsed": true
   },
   "outputs": [],
   "source": [
    "ref = np.maximum(*refs)"
   ]
  },
  {
   "cell_type": "code",
   "execution_count": 30,
   "metadata": {
    "collapsed": true
   },
   "outputs": [],
   "source": [
    "try:\n",
    "    # try importing the C version\n",
    "    from deap.tools._hypervolume import hv\n",
    "except ImportError:\n",
    "    # fallback on python version\n",
    "    from deap.tools._hypervolume import pyhv as hv"
   ]
  },
  {
   "cell_type": "code",
   "execution_count": 31,
   "metadata": {
    "collapsed": true
   },
   "outputs": [],
   "source": [
    "def hypervolume(front, ref):\n",
    "    wobj = np.array([ind.fitness.values for ind in front])\n",
    "    return hv.hypervolume(wobj, ref)"
   ]
  },
  {
   "cell_type": "code",
   "execution_count": 34,
   "metadata": {
    "collapsed": false
   },
   "outputs": [],
   "source": [
    "mocmaes_hypervols = {problem_name: hypervolume(mocmaes_results[problem_name], \n",
    "                                               ref_point(problem_name)) \n",
    "                     for problem_name in mocmaes_results}"
   ]
  },
  {
   "cell_type": "code",
   "execution_count": 35,
   "metadata": {
    "collapsed": false
   },
   "outputs": [],
   "source": [
    "nsga_ii_hypervols = {problem_name: hypervolume(nsga_ii_results[problem_name], \n",
    "                                               ref_point(problem_name)) \n",
    "                     for problem_name in nsga_ii_results}"
   ]
  },
  {
   "cell_type": "code",
   "execution_count": 36,
   "metadata": {
    "collapsed": true
   },
   "outputs": [],
   "source": [
    "jmetal_hypervols = {problem_name: hv.hypervolume(jmetal_2d_pfs[problem_name].values, \n",
    "                                                 ref_point(problem_name)) \n",
    "                    for problem_name in jmetal_2d_pfs}"
   ]
  },
  {
   "cell_type": "code",
   "execution_count": 37,
   "metadata": {
    "collapsed": false
   },
   "outputs": [],
   "source": [
    "s1 = pd.Series(jmetal_hypervols, index=sorted(jmetal_hypervols.keys()))\n",
    "s2 = pd.Series(nsga_ii_hypervols, index=nsga_ii_hypervols.keys())\n",
    "s3 = pd.Series(mocmaes_hypervols, index=mocmaes_hypervols.keys())"
   ]
  },
  {
   "cell_type": "code",
   "execution_count": 38,
   "metadata": {
    "collapsed": false
   },
   "outputs": [],
   "source": [
    "df = pd.DataFrame()"
   ]
  },
  {
   "cell_type": "code",
   "execution_count": 39,
   "metadata": {
    "collapsed": false
   },
   "outputs": [],
   "source": [
    "df['jMetal'] = s1\n",
    "df['MO-CMA-ES'] = s2\n",
    "df['NSGA-II'] = s3"
   ]
  },
  {
   "cell_type": "code",
   "execution_count": 41,
   "metadata": {
    "collapsed": false
   },
   "outputs": [
    {
     "data": {
      "text/html": [
       "<div style=\"max-height:1000px;max-width:1500px;overflow:auto;\">\n",
       "<table border=\"1\" class=\"dataframe\">\n",
       "  <thead>\n",
       "    <tr style=\"text-align: right;\">\n",
       "      <th></th>\n",
       "      <th>jMetal</th>\n",
       "      <th>MO-CMA-ES</th>\n",
       "      <th>NSGA-II</th>\n",
       "    </tr>\n",
       "  </thead>\n",
       "  <tbody>\n",
       "    <tr>\n",
       "      <th>wfg1</th>\n",
       "      <td> 11.147343</td>\n",
       "      <td> 6.046835</td>\n",
       "      <td> 4.985549</td>\n",
       "    </tr>\n",
       "    <tr>\n",
       "      <th>wfg2</th>\n",
       "      <td>  4.714263</td>\n",
       "      <td> 4.419443</td>\n",
       "      <td> 4.622746</td>\n",
       "    </tr>\n",
       "    <tr>\n",
       "      <th>wfg3</th>\n",
       "      <td>  4.138568</td>\n",
       "      <td> 4.019729</td>\n",
       "      <td> 4.072841</td>\n",
       "    </tr>\n",
       "    <tr>\n",
       "      <th>wfg4</th>\n",
       "      <td>  1.979129</td>\n",
       "      <td> 1.933191</td>\n",
       "      <td> 1.825613</td>\n",
       "    </tr>\n",
       "    <tr>\n",
       "      <th>wfg5</th>\n",
       "      <td>  2.041873</td>\n",
       "      <td> 1.723286</td>\n",
       "      <td> 1.727437</td>\n",
       "    </tr>\n",
       "    <tr>\n",
       "      <th>wfg6</th>\n",
       "      <td>  2.338831</td>\n",
       "      <td> 2.067143</td>\n",
       "      <td> 1.745799</td>\n",
       "    </tr>\n",
       "    <tr>\n",
       "      <th>wfg7</th>\n",
       "      <td>  1.817723</td>\n",
       "      <td> 1.772878</td>\n",
       "      <td> 1.752464</td>\n",
       "    </tr>\n",
       "    <tr>\n",
       "      <th>wfg8</th>\n",
       "      <td>  3.035515</td>\n",
       "      <td> 2.278706</td>\n",
       "      <td> 2.380266</td>\n",
       "    </tr>\n",
       "    <tr>\n",
       "      <th>wfg9</th>\n",
       "      <td>  2.302248</td>\n",
       "      <td> 2.047462</td>\n",
       "      <td> 1.732875</td>\n",
       "    </tr>\n",
       "  </tbody>\n",
       "</table>\n",
       "</div>"
      ],
      "text/plain": [
       "         jMetal  MO-CMA-ES   NSGA-II\n",
       "wfg1  11.147343   6.046835  4.985549\n",
       "wfg2   4.714263   4.419443  4.622746\n",
       "wfg3   4.138568   4.019729  4.072841\n",
       "wfg4   1.979129   1.933191  1.825613\n",
       "wfg5   2.041873   1.723286  1.727437\n",
       "wfg6   2.338831   2.067143  1.745799\n",
       "wfg7   1.817723   1.772878  1.752464\n",
       "wfg8   3.035515   2.278706  2.380266\n",
       "wfg9   2.302248   2.047462  1.732875"
      ]
     },
     "execution_count": 41,
     "metadata": {},
     "output_type": "execute_result"
    }
   ],
   "source": [
    "df"
   ]
  },
  {
   "cell_type": "code",
   "execution_count": 42,
   "metadata": {
    "collapsed": false
   },
   "outputs": [
    {
     "data": {
      "text/plain": [
       "<matplotlib.axes._subplots.AxesSubplot at 0x10c126048>"
      ]
     },
     "execution_count": 42,
     "metadata": {},
     "output_type": "execute_result"
    },
    {
     "data": {
      "image/png": "[encoded data removed]",
      "text/plain": [
       "<matplotlib.figure.Figure at 0x10c12f128>"
      ]
     },
     "metadata": {
      "image/png": {
       "height": 255,
       "width": 375
      }
     },
     "output_type": "display_data"
    }
   ],
   "source": [
    "df.plot()"
   ]
  },
  {
   "cell_type": "markdown",
   "metadata": {},
   "source": [
    "# Three-objective problems"
   ]
  },
  {
   "cell_type": "code",
   "execution_count": 55,
   "metadata": {
    "collapsed": true
   },
   "outputs": [],
   "source": [
    "num_objs = 3"
   ]
  },
  {
   "cell_type": "code",
   "execution_count": 56,
   "metadata": {
    "collapsed": false
   },
   "outputs": [
    {
     "name": "stdout",
     "output_type": "stream",
     "text": [
      "wfg1 [2.8938244270583224, 0.98147266472667083, 0.98773580685013451]\n",
      "wfg2 [0.56470921087483161, 1.3066994524149838, 4.5075163475680196]\n",
      "wfg3 [1.2156481549919418, 2.1468993250785737, 2.036082197836306]\n",
      "wfg4 [0.69045792357703617, 1.3396752456445418, 5.9178080008193952]\n",
      "wfg5 [1.7499716819842821, 3.4566652910494673, 2.4909503856335666]\n",
      "wfg6 [1.3154174718143972, 3.2840496916580486, 4.7762533153879216]\n",
      "wfg7 [1.3109917557894879, 2.8774461301599925, 4.7345877640358687]\n",
      "wfg8 [1.521506378709875, 1.0324306537063779, 5.7319305780883294]\n",
      "wfg9 [1.522783464579872, 1.4512033611681696, 6.4924315131530275]\n"
     ]
    }
   ],
   "source": [
    "for problem_name in sorted(problem_creators):\n",
    "    f, bounds = problem_creators[problem_name](distance, position, num_objs)\n",
    "    ind = uniform(*bounds)\n",
    "    print(problem_name, f(ind))"
   ]
  },
  {
   "cell_type": "code",
   "execution_count": 57,
   "metadata": {
    "collapsed": false
   },
   "outputs": [
    {
     "name": "stderr",
     "output_type": "stream",
     "text": [
      "/Users/lm/anaconda/lib/python3.4/site-packages/deap/creator.py:141: RuntimeWarning: A class named 'FitnessMin3D' has already been created and it will be overwritten. Consider deleting previous creation of that class or rename it.\n",
      "  RuntimeWarning)\n",
      "/Users/lm/anaconda/lib/python3.4/site-packages/deap/creator.py:141: RuntimeWarning: A class named 'Individual3D' has already been created and it will be overwritten. Consider deleting previous creation of that class or rename it.\n",
      "  RuntimeWarning)\n"
     ]
    }
   ],
   "source": [
    "creator.create(\"FitnessMin3D\", base.Fitness, weights=(-1.,-1.,-1.))\n",
    "creator.create(\"Individual3D\", array.array, typecode='d',fitness=creator.FitnessMin3D)"
   ]
  },
  {
   "cell_type": "markdown",
   "metadata": {},
   "source": [
    "Run NSGA-II and MO-CMA-ES for every problem, now with 3 objectives. Again, we are going to use all the CPU cores to save some time."
   ]
  },
  {
   "cell_type": "code",
   "execution_count": 58,
   "metadata": {
    "collapsed": true
   },
   "outputs": [],
   "source": [
    "def run_mocmaes_on_3d_problem(problem_name):\n",
    "    return run_mocmaes(problem_name, creator.Individual3D)"
   ]
  },
  {
   "cell_type": "code",
   "execution_count": 59,
   "metadata": {
    "collapsed": true
   },
   "outputs": [],
   "source": [
    "def run_nsga_ii_on_3d_problem(problem_name):\n",
    "    return run_nsga_ii(problem_name, creator.Individual3D)"
   ]
  },
  {
   "cell_type": "code",
   "execution_count": 62,
   "metadata": {
    "collapsed": false
   },
   "outputs": [
    {
     "name": "stdout",
     "output_type": "stream",
     "text": [
      "CPU times: user 1.26 s, sys: 559 ms, total: 1.82 s\n",
      "Wall time: 8min 4s\n"
     ]
    }
   ],
   "source": [
    "%%time\n",
    "result_pairs = Pool().map(run_nsga_ii_on_3d_problem, problem_creators)"
   ]
  },
  {
   "cell_type": "code",
   "execution_count": 64,
   "metadata": {
    "collapsed": true
   },
   "outputs": [],
   "source": [
    "nsga_ii_3d_results = {name: data for data, name in result_pairs}"
   ]
  },
  {
   "cell_type": "code",
   "execution_count": 69,
   "metadata": {
    "collapsed": false
   },
   "outputs": [
    {
     "name": "stdout",
     "output_type": "stream",
     "text": [
      "CPU times: user 21.9 s, sys: 10.4 s, total: 32.3 s\n",
      "Wall time: 1h 23min 39s\n"
     ]
    }
   ],
   "source": [
    "%%time\n",
    "result_pairs = Pool().map(run_mocmaes_on_3d_problem, problem_creators)"
   ]
  },
  {
   "cell_type": "code",
   "execution_count": 70,
   "metadata": {
    "collapsed": true
   },
   "outputs": [],
   "source": [
    "mocmaes_3d_results = {name: data for data, name in result_pairs}"
   ]
  },
  {
   "cell_type": "markdown",
   "metadata": {},
   "source": [
    "### Loading jMetal three-objective fronts"
   ]
  },
  {
   "cell_type": "code",
   "execution_count": 71,
   "metadata": {
    "collapsed": true
   },
   "outputs": [],
   "source": [
    "jmetal_3d_pfs = {}\n",
    "for i, problem_name in enumerate(sorted(problem_creators)):\n",
    "    jmetal_2d_pfs[problem_name] = pd.read_table('WFG.3D' + os.sep + 'WFG' + str(i+1) + '.3D.pf',\n",
    "                                                sep=' ', header=None).dropna(axis=1)"
   ]
  },
  {
   "cell_type": "markdown",
   "metadata": {},
   "source": [
    "### Ploting results"
   ]
  },
  {
   "cell_type": "code",
   "execution_count": null,
   "metadata": {
    "collapsed": false
   },
   "outputs": [],
   "source": [
    "fig = plt.figure(figsize=(4*(len(problem_creators)//3),4*3))\n",
    "for i, problem_name in enumerate(sorted(problem_creators)):\n",
    "    ax = fig.add_subplot(len(problems)//3,3,i+1, projection='3d')\n",
    "    \n",
    "    # NSGA-II\n",
    "    non_dom = tools.sortLogNondominated(nsga_ii_3d_results[problem_name],\n",
    "                                        len(nsga_ii_3d_results[problem_name]), \n",
    "                                        first_front_only=True)\n",
    "    df = pd.DataFrame([ind.fitness.values for ind in non_dom]) \n",
    "    ax.scatter(df[df.columns[0]].values, df[df.columns[1]].values, df[df.columns[2]].values, \n",
    "               marker='+', color='g', alpha=0.5)\n",
    "    \n",
    "    # MO-CMA_ES\n",
    "    non_dom = tools.sortLogNondominated(mocmaes_3d_results[problem_name],\n",
    "                                        len(mocmaes_3d_results[problem_name]), \n",
    "                                        first_front_only=True)\n",
    "    df = pd.DataFrame([ind.fitness.values for ind in non_dom]) \n",
    "    ax.scatter(df[df.columns[0]].values, df[df.columns[1]].values, df[df.columns[2]].values, \n",
    "               marker='x', color='r', alpha=0.5)\n",
    "    \n",
    "    jm = jmetal_3d_pfs[problem_name]\n",
    "    ax.scatter(jm[jm.columns[0]].values, jm[jm.columns[1]].values,jm[jm.columns[2]].values, \n",
    "               marker='.', color='b', alpha=0.5)\n",
    "    \n",
    "    opt = [f(sol_f()) for _ in range(len(jm))]\n",
    "\n",
    "    df = pd.DataFrame(opt)\n",
    "    ax.scatter(df[df.columns[0]].values, df[df.columns[1]].values, df[df.columns[2]].values, \n",
    "               marker='x', color='r', alpha=0.5)\n",
    "    \n",
    "    # a trick to show a legend in a 3d scatter plot.\n",
    "    scatter1_proxy = matplotlib.lines.Line2D([0],[0], linestyle=\"none\", c='g', marker = 'o')\n",
    "    scatter2_proxy = matplotlib.lines.Line2D([0],[0], linestyle=\"none\", c='r', marker = 'x')\n",
    "    scatter3_proxy = matplotlib.lines.Line2D([0],[0], linestyle=\"none\", c='b', marker = '.')\n",
    "    \n",
    "    ax.legend([scatter1_proxy, scatter2_proxy,scatter3_proxy], \n",
    "              ['NSGA-II', 'MO-CMA-ES', 'jMetal'],\n",
    "               numpoints = 3,fontsize=8)\n",
    "    \n",
    "    ax.set_xlabel('$f_1(\\mathbf{x})$')\n",
    "    ax.set_ylabel('$f_2(\\mathbf{x})$')\n",
    "    ax.set_zlabel('$f_3(\\mathbf{x})$')\n",
    "    \n",
    "    ax.azim +=45 # better viewing angle\n",
    "    plt.title(problem_name)\n",
    "plt.tight_layout()"
   ]
  },
  {
   "cell_type": "markdown",
   "metadata": {},
   "source": [
    "Another reference of how the fronts should look like:"
   ]
  },
  {
   "cell_type": "markdown",
   "metadata": {},
   "source": [
    "<table>\n",
    "<tr>\n",
    "<td>\n",
    "<img width='300' src='http://www.cs.cinvestav.mx/~emoobook/apendix-f/galeria5/wfg1b.jpg'/>\n",
    "</td><td>\n",
    "<img width='300' src='http://www.cs.cinvestav.mx/~emoobook/apendix-f/galeria5/wfg2b.jpg'/>\n",
    "</td><td>\n",
    "<img width='300' src='http://www.cs.cinvestav.mx/~emoobook/apendix-f/galeria5/wfg3b.jpg'/>\n",
    "</td>\n",
    "</tr>\n",
    "<tr><td>\n",
    "<img width='300' src='http://www.cs.cinvestav.mx/~emoobook/apendix-f/galeria5/wfg4b.jpg'/>\n",
    "</td><td>\n",
    "<img width='300' src='http://www.cs.cinvestav.mx/~emoobook/apendix-f/galeria5/wfg5b.jpg'/>\n",
    "</td><td>\n",
    "<img width='300' src='http://www.cs.cinvestav.mx/~emoobook/apendix-f/galeria5/wfg6b.jpg'/>\n",
    "</tr>\n",
    "<tr>\n",
    "<td>\n",
    "<img width='300' src='http://www.cs.cinvestav.mx/~emoobook/apendix-f/galeria5/wfg7b.jpg'/>\n",
    "</td><td>\n",
    "<img width='300' src='http://www.cs.cinvestav.mx/~emoobook/apendix-f/galeria5/wfg8b.jpg'/>\n",
    "</td><td>\n",
    "<img width='300' src='http://www.cs.cinvestav.mx/~emoobook/apendix-f/galeria5/wfg9b.jpg'/>\n",
    "</td>\n",
    "</tr>\n",
    "</table>"
   ]
  },
  {
   "cell_type": "code",
   "execution_count": null,
   "metadata": {
    "collapsed": true
   },
   "outputs": [],
   "source": []
  },
  {
   "cell_type": "code",
   "execution_count": null,
   "metadata": {
    "collapsed": true
   },
   "outputs": [],
   "source": [
    "def ref_point_3d(problem_name):\n",
    "    non_dom = tools.sortLogNondominated(nsga_ii_3d_results[problem_name],\n",
    "                                        len(nsga_ii_3d_results[problem_name]), \n",
    "                                        first_front_only=True)\n",
    "    ref = list(pd.DataFrame([ind.fitness.values for ind in non_dom]).max())\n",
    "\n",
    "    non_dom = tools.sortLogNondominated(mocmaes_3d_results[problem_name],\n",
    "                                        len(mocmaes_3d_results[problem_name]), \n",
    "                                        first_front_only=True)\n",
    "    ref = np.maximum(ref, pd.DataFrame([ind.fitness.values for ind in non_dom]).max())\n",
    "\n",
    "    jm = jmetal_3d_pfs[problem_name]\n",
    "\n",
    "    ref = np.maximum(ref, list(jm.max()))\n",
    "    return ref + 0.01"
   ]
  },
  {
   "cell_type": "code",
   "execution_count": null,
   "metadata": {
    "collapsed": true
   },
   "outputs": [],
   "source": [
    "mocmaes_3d_hypervols = {problem_name: hypervolume(mocmaes_3d_results[problem_name], \n",
    "                                                  ref_point_3d(problem_name)) \n",
    "                        for problem_name in mocmaes_results}"
   ]
  },
  {
   "cell_type": "code",
   "execution_count": null,
   "metadata": {
    "collapsed": true
   },
   "outputs": [],
   "source": [
    "nsga_ii_3d_hypervols = {problem_name: hypervolume(nsga_ii_3d_results[problem_name], \n",
    "                                                  ref_point_3d(problem_name)) \n",
    "                        for problem_name in nsga_ii_results}"
   ]
  },
  {
   "cell_type": "code",
   "execution_count": null,
   "metadata": {
    "collapsed": true
   },
   "outputs": [],
   "source": [
    "jmetal_3d_hypervols = {problem_name: hv.hypervolume(jmetal_3d_pfs[problem_name].values, \n",
    "                                                    ref_point(problem_name)) \n",
    "                    for problem_name in jmetal_3d_pfs}"
   ]
  },
  {
   "cell_type": "code",
   "execution_count": null,
   "metadata": {
    "collapsed": true
   },
   "outputs": [],
   "source": [
    "s1 = pd.Series(jmetal_3d_hypervols, index=sorted(jmetal_hypervols.keys()))\n",
    "s2 = pd.Series(nsga_ii_3d_hypervols, index=nsga_ii_hypervols.keys())\n",
    "s3 = pd.Series(mocmaes_3d_hypervols, index=mocmaes_hypervols.keys())"
   ]
  },
  {
   "cell_type": "code",
   "execution_count": null,
   "metadata": {
    "collapsed": true
   },
   "outputs": [],
   "source": [
    "df = pd.DataFrame()\n",
    "df['jMetal'] = s1\n",
    "df['MO-CMA-ES'] = s2\n",
    "df['NSGA-II'] = s3"
   ]
  },
  {
   "cell_type": "code",
   "execution_count": null,
   "metadata": {
    "collapsed": true
   },
   "outputs": [],
   "source": []
  }
 ],
 "metadata": {
  "kernelspec": {
   "display_name": "Python 3",
   "language": "python",
   "name": "python3"
  },
  "language_info": {
   "codemirror_mode": {
    "name": "ipython",
    "version": 3
   },
   "file_extension": ".py",
   "mimetype": "text/x-python",
   "name": "python",
   "nbconvert_exporter": "python",
   "pygments_lexer": "ipython3",
   "version": "3.4.3"
  }
 },
 "nbformat": 4,
 "nbformat_minor": 0
}
